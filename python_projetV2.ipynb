{
 "cells": [
  {
   "cell_type": "markdown",
   "metadata": {},
   "source": [
    "# Faîtes vos jeux!"
   ]
  },
  {
   "cell_type": "markdown",
   "metadata": {},
   "source": [
    "Dans cette série de notebook, nous allons coder des jeux de casino en python."
   ]
  },
  {
   "cell_type": "markdown",
   "metadata": {},
   "source": [
    "### 1ère Partie"
   ]
  },
  {
   "cell_type": "markdown",
   "metadata": {},
   "source": [
    "### Poker éléctronique\n",
    "\n",
    "##### Règles du jeu:\n",
    "\n",
    "Le poker éléctronique est un jeu de type machine à sous,\n",
    "le joueur choisi sa mise, appui sur le bouton \"jouer\" et la machine lui propose un jeu de 5 cartes tirés d'un jeu de 52 cartes.\n",
    "Le jouer peut alors choisir des cartes à garder, il peut choisir d'en garder 0, 1, 2, 3 ou 4, puis rappuie sur le bouton. Selon le choix du joueur, la machine tire de nouveaux le nombre de carte qu'il faut pour constituer le tirage final. \n",
    "Enfin le joueur récupère ses gains qui correspondent au montant de sa mise multiplié par le gain correspondant à la combinaison obtenue sur le tirage final. Si il n'a aucune combinaison il perd sa mise.\n",
    "\n",
    "##### Combinaison et gains:\n",
    "\n",
    "-Paire : 2 cartes identiques => 1 fois la mise\n",
    "\n",
    "-Double Paire : deux fois 2 cartes identiques => 2 fois la mise\n",
    "\n",
    "-Brelan : 3 cartes identiques => 3 fois la mise\n",
    "\n",
    "-Quinte : 5 cartes identiques => 4 fois la mise\n",
    "\n",
    "-Flush : 5 cartes de la même couleur => 6 fois la mise\n",
    "\n",
    "-Full : 1 paire + 1 brelan => 9 fois la mise\n",
    "\n",
    "-Carré : 4 cartes identiques => 25 fois la mise\n",
    "\n",
    "-Quinte Flush : 1 quinte de la même couleur => 50 fois la mise\n",
    "\n",
    "-Quinte Flush Royale : 1 quinte flush avec as, roi, dame, valet, 10 => 250 fois la mise."
   ]
  },
  {
   "cell_type": "code",
   "execution_count": 1,
   "metadata": {},
   "outputs": [],
   "source": [
    "import pandas as pd\n",
    "import random"
   ]
  },
  {
   "cell_type": "markdown",
   "metadata": {},
   "source": [
    "Le deck represente le jeu de carte : \n",
    "\n",
    "chaque carte est représentée par :\n",
    "    \n",
    "- un chiffre ou un lettre majuscule qui représente la valeur de la carte ( J = Valet, Q = Dame, K = Roi, A = As )\n",
    "- une lettre minuscule qui représente la couleur ( h = Hearts = Coeur, d = Diamonds = Carreau, c = Clubs = Trèfle, s = Spades = Pique )"
   ]
  },
  {
   "cell_type": "code",
   "execution_count": 2,
   "metadata": {},
   "outputs": [],
   "source": [
    "deck = ['2-h','3-h','4-h','5-h','6-h','7-h','8-h','9-h','10-h','J-h','Q-h','K-h','A-h','2-d','3-d','4-d','5-d','6-d','7-d','8-d','9-d','10-d','J-d','Q-d','K-d','A-d','2-c','3-c','4-c','5-c','6-c','7-c','8-c','9-c','10-c','J-c','Q-c','K-c','A-c','2-s','3-s','4-s','5-s','6-s','7-s','8-s','9-s','10-s','J-s','Q-s','K-s','A-s']"
   ]
  },
  {
   "cell_type": "code",
   "execution_count": 3,
   "metadata": {},
   "outputs": [
    {
     "data": {
      "text/plain": [
       "52"
      ]
     },
     "execution_count": 3,
     "metadata": {},
     "output_type": "execute_result"
    }
   ],
   "source": [
    "len(deck)"
   ]
  },
  {
   "cell_type": "markdown",
   "metadata": {},
   "source": [
    "Créer une fonction, nommée premier_tirage, permettant de faire un tirage aléatoire sans remise dans le deck.\n",
    "Les cartes tirées devront être retirées du deck pour le deuxième tirage.\n",
    "La fonction devra retourner le tirage, et le nouveau deck. "
   ]
  },
  {
   "cell_type": "code",
   "execution_count": 4,
   "metadata": {},
   "outputs": [],
   "source": [
    "def premier_tirage(deck):\n",
    "    tirage = random.sample(deck, 5)\n",
    "    for i in tirage:\n",
    "        deck.remove(i)\n",
    "    return tirage, deck"
   ]
  },
  {
   "cell_type": "code",
   "execution_count": 5,
   "metadata": {},
   "outputs": [],
   "source": [
    "pt,cr = premier_tirage(deck)"
   ]
  },
  {
   "cell_type": "code",
   "execution_count": 6,
   "metadata": {
    "scrolled": true
   },
   "outputs": [
    {
     "name": "stdout",
     "output_type": "stream",
     "text": [
      "['K-s', '8-h', '5-c', 'A-d', '3-d']\n"
     ]
    }
   ],
   "source": [
    "print(pt)"
   ]
  },
  {
   "cell_type": "markdown",
   "metadata": {},
   "source": [
    "Créer une fonction, nommée choix_carte, qui prend un tirage en entrée, et permet au joueur de choisir quelle carte il garde ou non pour le deuxième tirage. La fonction devra retourner le jeu avec les carte que le joueur aura garder."
   ]
  },
  {
   "cell_type": "code",
   "execution_count": 7,
   "metadata": {},
   "outputs": [],
   "source": [
    "def choix_carte(chosen_cards):\n",
    "    new_chosen_cards = []\n",
    "    compteur = 0\n",
    "    print(chosen_cards)\n",
    "    for card in chosen_cards:\n",
    "        if compteur < 4:\n",
    "            answer = input(f'Garder la carte {card} (y/n)? : ')\n",
    "            if answer == 'y':\n",
    "            #le compteur prend 1\n",
    "                compteur += 1\n",
    "                new_chosen_cards.append(card)\n",
    "            else:\n",
    "                continue\n",
    "    return new_chosen_cards"
   ]
  },
  {
   "cell_type": "code",
   "execution_count": 8,
   "metadata": {
    "scrolled": true
   },
   "outputs": [
    {
     "name": "stdout",
     "output_type": "stream",
     "text": [
      "['K-s', '8-h', '5-c', 'A-d', '3-d']\n",
      "Garder la carte K-s (y/n)? : y\n",
      "Garder la carte 8-h (y/n)? : y\n",
      "Garder la carte 5-c (y/n)? : y\n",
      "Garder la carte A-d (y/n)? : y\n"
     ]
    }
   ],
   "source": [
    "ch = choix_carte(pt)"
   ]
  },
  {
   "cell_type": "code",
   "execution_count": 9,
   "metadata": {
    "scrolled": true
   },
   "outputs": [
    {
     "name": "stdout",
     "output_type": "stream",
     "text": [
      "['K-s', '8-h', '5-c', 'A-d']\n"
     ]
    }
   ],
   "source": [
    "print(ch)"
   ]
  },
  {
   "cell_type": "markdown",
   "metadata": {},
   "source": [
    "Créer un fonction, nommée deuxieme_tirage, qui permet, à partir du jeu obtenu avec la fonction choix_carte et le deck obtenu avec la fonction premier tirage, de constituer le tirage final du joueur. La fonction devra retourner le tirage final."
   ]
  },
  {
   "cell_type": "code",
   "execution_count": 10,
   "metadata": {},
   "outputs": [],
   "source": [
    "def deuxieme_tirage(jeu, deck):\n",
    "    nb_carte = len(jeu)\n",
    "    carte_a_tirer = 5 - nb_carte\n",
    "    nouvelle_carte = random.sample(deck, carte_a_tirer)\n",
    "    for i in nouvelle_carte:\n",
    "        jeu.append(i)\n",
    "    return jeu"
   ]
  },
  {
   "cell_type": "markdown",
   "metadata": {},
   "source": [
    "Grâce aux fonctions créées précédemment, faire un fonction nommée machine, qui fait le premier tirage, l'affiche, propose au joueur les cartes afin de choisir celles à garder, puis fait le deuxième tirage et l'affiche et le retourne."
   ]
  },
  {
   "cell_type": "code",
   "execution_count": 11,
   "metadata": {},
   "outputs": [],
   "source": [
    "def machine():\n",
    "    deck = ['2-h','3-h','4-h','5-h','6-h','7-h','8-h','9-h','10-h','J-h','Q-h','K-h','A-h','2-d','3-d','4-d','5-d','6-d','7-d','8-d','9-d','10-d','J-d','Q-d','K-d','A-d','2-c','3-c','4-c','5-c','6-c','7-c','8-c','9-c','10-c','J-c','Q-c','K-c','A-c','2-s','3-s','4-s','5-s','6-s','7-s','8-s','9-s','10-s','J-s','Q-s','K-s','A-s']\n",
    "    tirage1, deck = premier_tirage(deck)\n",
    "    print(tirage1)\n",
    "    jeu = choix_carte(tirage1)\n",
    "    tirage_final = deuxieme_tirage(jeu, deck)\n",
    "    print(tirage_final)\n",
    "    return tirage_final"
   ]
  },
  {
   "cell_type": "code",
   "execution_count": 12,
   "metadata": {
    "scrolled": false
   },
   "outputs": [
    {
     "name": "stdout",
     "output_type": "stream",
     "text": [
      "['Q-h', '6-s', '8-d', '4-s', 'K-h']\n",
      "['Q-h', '6-s', '8-d', '4-s', 'K-h']\n",
      "Garder la carte Q-h (y/n)? : y\n",
      "Garder la carte 6-s (y/n)? : y\n",
      "Garder la carte 8-d (y/n)? : y\n",
      "Garder la carte 4-s (y/n)? : y\n",
      "['Q-h', '6-s', '8-d', '4-s', '7-c']\n"
     ]
    }
   ],
   "source": [
    "tf = machine()"
   ]
  },
  {
   "cell_type": "markdown",
   "metadata": {},
   "source": [
    "Trouver un moyen de tester un tirage pour voir si il correspond à une des combinaisons gagnantes. "
   ]
  },
  {
   "cell_type": "code",
   "execution_count": 13,
   "metadata": {},
   "outputs": [],
   "source": [
    "def decompose_jeu(tirage):\n",
    "    dic = {}\n",
    "    keys = [1,2,3,4,5]\n",
    "    valeur = []\n",
    "    couleur = []\n",
    "    for i,k in zip(tirage,keys):\n",
    "        dic[k] = i.split('-')\n",
    "    for key in dic.keys():\n",
    "        valeur.append(dic[key][0])\n",
    "        couleur.append(dic[key][1])\n",
    "    return valeur, couleur"
   ]
  },
  {
   "cell_type": "code",
   "execution_count": 14,
   "metadata": {},
   "outputs": [],
   "source": [
    "def convert_carte(liste):\n",
    "    for e,i in zip(liste, range(0,5)):\n",
    "        try:\n",
    "            liste[i] = int(e)\n",
    "        except:\n",
    "            if e == 'J':\n",
    "                liste[i] = 11\n",
    "            elif e == 'Q':\n",
    "                liste[i] = 12\n",
    "            elif e == 'K':\n",
    "                liste[i] = 13\n",
    "            elif e == 'A':\n",
    "                liste[i] = 1\n",
    "            else:\n",
    "                continue\n",
    "        return liste"
   ]
  },
  {
   "cell_type": "code",
   "execution_count": 15,
   "metadata": {},
   "outputs": [],
   "source": [
    "def nunique(couleur):\n",
    "    nb_couleur = []\n",
    "    for x in set(couleur):\n",
    "        nb_couleur.append(couleur.count(x))\n",
    "    return(sorted(nb_couleur,reverse=True))[:2]"
   ]
  },
  {
   "cell_type": "code",
   "execution_count": 16,
   "metadata": {},
   "outputs": [],
   "source": [
    "couleur = [\"h\", \"d\", \"c\", \"s\"]\n",
    "carte = [\"A\", \"2\", \"3\", \"4\", \"5\", \"6\", \"7\", \"8\", \"9\", \"10\", \"J\", \"Q\", \"K\"]"
   ]
  },
  {
   "cell_type": "code",
   "execution_count": 17,
   "metadata": {},
   "outputs": [],
   "source": [
    "couleur_nunique = nunique(couleur)\n",
    "carte_nunique = nunique(carte)"
   ]
  },
  {
   "cell_type": "code",
   "execution_count": 18,
   "metadata": {},
   "outputs": [],
   "source": [
    "def quinte_flush_royale(carte, couleur):\n",
    "    valeur_gagnante = ['10','J','Q','K','A']\n",
    "    valeur, couleur = decompose_jeu(tirage)\n",
    "    if sorted(valeur_gagnante) == sorted(valeur) and couleur.count(couleur[0] == 5):\n",
    "        return True\n",
    "    else:\n",
    "        return False"
   ]
  },
  {
   "cell_type": "code",
   "execution_count": 19,
   "metadata": {},
   "outputs": [],
   "source": [
    "def quinte_flush(tirage):\n",
    "    valeur, couleur = decompose_jeu(tirage)\n",
    "    valeur = convert_carte(valeur)\n",
    "    valeur = sorted(valeur)\n",
    "    suite = []\n",
    "    for e, in zip (valeur[0:-1], range(len(valeur)-1)):\n",
    "        if e+1 == valeur[i+1]:\n",
    "            suite.append('True')\n",
    "    if suite.count('True') == 4 and couleur.count(couleur[0]) == 5:\n",
    "        return True\n",
    "    else:\n",
    "        return False"
   ]
  },
  {
   "cell_type": "code",
   "execution_count": null,
   "metadata": {},
   "outputs": [],
   "source": [
    "def check_suite(carte):\n",
    "    for x in carte[:-1]:\n",
    "        if sorted(carte) == sorted ([1, 10, 11, 12, 13]):\n",
    "            return True\n",
    "        elif x+1 == carte[x]:\n",
    "            return True\n",
    "            print(x)\n",
    "        else:\n",
    "            return False\n",
    "\n",
    "        #les restes des tests sont dans le calcul des gains, ce sont des if"
   ]
  },
  {
   "cell_type": "markdown",
   "metadata": {},
   "source": [
    "Créer une fonction permettant de calculer les gains et d'afficher le résultat au joueur."
   ]
  },
  {
   "cell_type": "code",
   "execution_count": 25,
   "metadata": {},
   "outputs": [],
   "source": [
    "def gain(tirage_final, mise, carte_nunique):\n",
    "    if carte_nunique[0]==4:\n",
    "        g = mise*25\n",
    "        resultat = \"Carré !! Vous gagnez \" + str(g) + \" euros!\"\n",
    "        return g, resultat\n",
    "    elif carte_nunique[0]==3 and carte_nunique[1]==2 :\n",
    "        g = mise*9\n",
    "        resultat = \"full !! Vous gagnez \" + str(g) + \" euros!\"\n",
    "        return g, resultat\n",
    "    elif carte_nunique[0]==3:\n",
    "        g = mise*3\n",
    "        resultat = \"Brelan !! Vous gagnez \" + str(g) + \" euros!\"\n",
    "        return g, resultat\n",
    "    elif carte_nunique[0]==2 and carte_nunique[1]==2 :\n",
    "        g = mise*2\n",
    "        resultat = \"double paire !! Vous gagnez \" + str(g) + \" euros!\"\n",
    "        return g, resultat\n",
    "    elif carte_nunique[0]==2 or carte_nunique[1]==2 :\n",
    "        g = mise*1\n",
    "        resultat = \"Paire !! Vous gagnez \" + str(g) + \" euros!\"\n",
    "        return g, resultat\n",
    "    elif quinte_flush_royale(tirage_final) == True:\n",
    "        g = mise*250\n",
    "        resultat = \"Quinte Flush Royale!! Vous gagnez \" + str(g) + \" euros!\"\n",
    "        return g, resultat\n",
    "    elif quinte_flush(tirage_final) == True:\n",
    "        g = mise*50\n",
    "        resultat = \"Quinte Flush !! Vous gagnez \" + str(g) + \" euros!\"\n",
    "        return g, resultat\n",
    "    else:\n",
    "        g = 0\n",
    "        resultat = \"Perdu\"\n",
    "        return g, resultat"
   ]
  },
  {
   "cell_type": "markdown",
   "metadata": {},
   "source": [
    "Créer une fonction, nommée partie, qui prend en entrée une mise et une bankroll (total de l'argent disponible pour jouer), perment de faire le tirage, et calcule la nouvelle bankroll en fonction des gains. La fonction devra retourner le resultat de la partie et la nouvelle bankroll."
   ]
  },
  {
   "cell_type": "code",
   "execution_count": 26,
   "metadata": {},
   "outputs": [],
   "source": [
    "def partie(mise, bankroll):\n",
    "    main = machine()\n",
    "    g, resultat = gain(main, mise)\n",
    "    bankroll = bankroll - mise\n",
    "    bankroll += g\n",
    "    return resultat, bankroll"
   ]
  },
  {
   "cell_type": "markdown",
   "metadata": {},
   "source": [
    "Créer une fonction, nommée video_poker, qui permet au joueur \"d'inserer de l'argent\" (bankroll), de choisir la mise puis de jouer jusqu'a avoir tout perdu (ou pas si il a de la chance!)"
   ]
  },
  {
   "cell_type": "code",
   "execution_count": 33,
   "metadata": {},
   "outputs": [],
   "source": [
    "def video_poker():\n",
    "    bankroll = int(input(\"Bank: \"))\n",
    "    mise = int(input(\"Faites vos jeu: \"))\n",
    "    \n",
    "    while bankroll - mise >= 0:\n",
    "        resultat, bankroll = partie(mise, bankroll)\n",
    "        print(resultat)\n",
    "        print(\"Bank; \" + str(bankroll))\n",
    "        if bankroll == 0:\n",
    "            print(\"Game over\")\n",
    "            break\n",
    "        else:\n",
    "            mise = int(input(\"Faites vos jeu: \"))\n",
    "            if bankroll - mise < 0:\n",
    "                print(\"Mise trop elevée\")\n",
    "                mise = int(input(\"Faites vos jeu: \"))"
   ]
  },
  {
   "cell_type": "code",
   "execution_count": 34,
   "metadata": {},
   "outputs": [
    {
     "name": "stdout",
     "output_type": "stream",
     "text": [
      "Bank: 1\n",
      "Faites vos jeu: 10\n"
     ]
    }
   ],
   "source": [
    "video_poker()"
   ]
  },
  {
   "cell_type": "markdown",
   "metadata": {},
   "source": [
    "Reprenez le notebook en scripts, et executez votre programme dans votre terminal."
   ]
  },
  {
   "cell_type": "code",
   "execution_count": null,
   "metadata": {},
   "outputs": [],
   "source": []
  }
 ],
 "metadata": {
  "kernelspec": {
   "display_name": "Python 3",
   "language": "python",
   "name": "python3"
  },
  "language_info": {
   "codemirror_mode": {
    "name": "ipython",
    "version": 3
   },
   "file_extension": ".py",
   "mimetype": "text/x-python",
   "name": "python",
   "nbconvert_exporter": "python",
   "pygments_lexer": "ipython3",
   "version": "3.8.3"
  }
 },
 "nbformat": 4,
 "nbformat_minor": 4
}
